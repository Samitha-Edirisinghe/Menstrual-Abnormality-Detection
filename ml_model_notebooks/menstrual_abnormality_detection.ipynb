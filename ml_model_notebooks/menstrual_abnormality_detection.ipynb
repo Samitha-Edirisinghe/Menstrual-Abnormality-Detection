{
  "cells": [
    {
      "cell_type": "markdown",
      "metadata": {
        "id": "qjqou3ULIWix"
      },
      "source": [
        "Step 1: Import necessary libraries"
      ]
    },
    {
      "cell_type": "code",
      "execution_count": 1,
      "metadata": {
        "id": "H5OAMtY0FxGh"
      },
      "outputs": [],
      "source": [
        "# Step 1: Import necessary libraries\n",
        "import pandas as pd\n",
        "import numpy as np\n"
      ]
    },
    {
      "cell_type": "markdown",
      "metadata": {
        "id": "FscJ0wRbIbJc"
      },
      "source": [
        "Step 2: Load the dataset"
      ]
    },
    {
      "cell_type": "code",
      "execution_count": 2,
      "metadata": {
        "colab": {
          "base_uri": "https://localhost:8080/",
          "height": 243
        },
        "id": "BjpPM-vEGVkL",
        "outputId": "84da8b71-d77f-4dda-ae51-36aefd8132d5"
      },
      "outputs": [
        {
          "name": "stdout",
          "output_type": "stream",
          "text": [
            "Dataset shape: (2000, 8)\n"
          ]
        },
        {
          "data": {
            "text/html": [
              "<div>\n",
              "<style scoped>\n",
              "    .dataframe tbody tr th:only-of-type {\n",
              "        vertical-align: middle;\n",
              "    }\n",
              "\n",
              "    .dataframe tbody tr th {\n",
              "        vertical-align: top;\n",
              "    }\n",
              "\n",
              "    .dataframe thead th {\n",
              "        text-align: right;\n",
              "    }\n",
              "</style>\n",
              "<table border=\"1\" class=\"dataframe\">\n",
              "  <thead>\n",
              "    <tr style=\"text-align: right;\">\n",
              "      <th></th>\n",
              "      <th>age</th>\n",
              "      <th>cycle_length</th>\n",
              "      <th>period_duration</th>\n",
              "      <th>flow_intensity</th>\n",
              "      <th>pms_symptoms_score</th>\n",
              "      <th>spotting_between</th>\n",
              "      <th>stress_level</th>\n",
              "      <th>is_abnormal</th>\n",
              "    </tr>\n",
              "  </thead>\n",
              "  <tbody>\n",
              "    <tr>\n",
              "      <th>0</th>\n",
              "      <td>26</td>\n",
              "      <td>28</td>\n",
              "      <td>5</td>\n",
              "      <td>0</td>\n",
              "      <td>10</td>\n",
              "      <td>0</td>\n",
              "      <td>0</td>\n",
              "      <td>0</td>\n",
              "    </tr>\n",
              "    <tr>\n",
              "      <th>1</th>\n",
              "      <td>42</td>\n",
              "      <td>40</td>\n",
              "      <td>6</td>\n",
              "      <td>1</td>\n",
              "      <td>5</td>\n",
              "      <td>1</td>\n",
              "      <td>6</td>\n",
              "      <td>1</td>\n",
              "    </tr>\n",
              "    <tr>\n",
              "      <th>2</th>\n",
              "      <td>21</td>\n",
              "      <td>15</td>\n",
              "      <td>7</td>\n",
              "      <td>1</td>\n",
              "      <td>6</td>\n",
              "      <td>0</td>\n",
              "      <td>9</td>\n",
              "      <td>1</td>\n",
              "    </tr>\n",
              "    <tr>\n",
              "      <th>3</th>\n",
              "      <td>25</td>\n",
              "      <td>30</td>\n",
              "      <td>6</td>\n",
              "      <td>1</td>\n",
              "      <td>5</td>\n",
              "      <td>0</td>\n",
              "      <td>5</td>\n",
              "      <td>0</td>\n",
              "    </tr>\n",
              "    <tr>\n",
              "      <th>4</th>\n",
              "      <td>41</td>\n",
              "      <td>33</td>\n",
              "      <td>1</td>\n",
              "      <td>1</td>\n",
              "      <td>8</td>\n",
              "      <td>0</td>\n",
              "      <td>10</td>\n",
              "      <td>1</td>\n",
              "    </tr>\n",
              "  </tbody>\n",
              "</table>\n",
              "</div>"
            ],
            "text/plain": [
              "   age  cycle_length  period_duration  flow_intensity  pms_symptoms_score  \\\n",
              "0   26            28                5               0                  10   \n",
              "1   42            40                6               1                   5   \n",
              "2   21            15                7               1                   6   \n",
              "3   25            30                6               1                   5   \n",
              "4   41            33                1               1                   8   \n",
              "\n",
              "   spotting_between  stress_level  is_abnormal  \n",
              "0                 0             0            0  \n",
              "1                 1             6            1  \n",
              "2                 0             9            1  \n",
              "3                 0             5            0  \n",
              "4                 0            10            1  "
            ]
          },
          "execution_count": 2,
          "metadata": {},
          "output_type": "execute_result"
        }
      ],
      "source": [
        "# Step 2: Load the dataset (adjust the path if needed)\n",
        "df = pd.read_csv('../ml_model_dataset/menstrual_cycle_dataset_big.csv')\n",
        "\n",
        "# Show the shape and first few rows\n",
        "print(\"Dataset shape:\", df.shape)\n",
        "df.head()\n"
      ]
    },
    {
      "cell_type": "markdown",
      "metadata": {
        "id": "O3Cx1qh0IkAF"
      },
      "source": [
        " Step 3: Check for missing values"
      ]
    },
    {
      "cell_type": "code",
      "execution_count": 3,
      "metadata": {
        "colab": {
          "base_uri": "https://localhost:8080/"
        },
        "id": "kWX209P2Ga9r",
        "outputId": "0d377586-a7f5-4785-e594-dfafa98e94b0"
      },
      "outputs": [
        {
          "name": "stdout",
          "output_type": "stream",
          "text": [
            "Missing values in each column:\n",
            " age                   0\n",
            "cycle_length          0\n",
            "period_duration       0\n",
            "flow_intensity        0\n",
            "pms_symptoms_score    0\n",
            "spotting_between      0\n",
            "stress_level          0\n",
            "is_abnormal           0\n",
            "dtype: int64\n"
          ]
        }
      ],
      "source": [
        "# Step 3: Check for missing values\n",
        "missing_values = df.isnull().sum()\n",
        "print(\"Missing values in each column:\\n\", missing_values)\n"
      ]
    },
    {
      "cell_type": "markdown",
      "metadata": {
        "id": "xuSjOAfzImuR"
      },
      "source": [
        "Step 4: Separate features (X) and target (y)"
      ]
    },
    {
      "cell_type": "code",
      "execution_count": 4,
      "metadata": {
        "colab": {
          "base_uri": "https://localhost:8080/"
        },
        "id": "taqDsQUTGi8f",
        "outputId": "44088a7d-972c-4666-b0c3-e038d83d61e7"
      },
      "outputs": [
        {
          "name": "stdout",
          "output_type": "stream",
          "text": [
            "Feature sample:\n",
            "   age  cycle_length  period_duration  flow_intensity  pms_symptoms_score  \\\n",
            "0   26            28                5               0                  10   \n",
            "1   42            40                6               1                   5   \n",
            "2   21            15                7               1                   6   \n",
            "3   25            30                6               1                   5   \n",
            "4   41            33                1               1                   8   \n",
            "\n",
            "   spotting_between  stress_level  \n",
            "0                 0             0  \n",
            "1                 1             6  \n",
            "2                 0             9  \n",
            "3                 0             5  \n",
            "4                 0            10  \n",
            "\n",
            "Target sample:\n",
            "0    0\n",
            "1    1\n",
            "2    1\n",
            "3    0\n",
            "4    1\n",
            "Name: is_abnormal, dtype: int64\n"
          ]
        }
      ],
      "source": [
        "# Step 4: Separate features and target column\n",
        "X = df.drop(\"is_abnormal\", axis=1)  # All columns except the label\n",
        "y = df[\"is_abnormal\"]               # Target: 0 = normal, 1 = abnormal\n",
        "\n",
        "# Show first few rows of features\n",
        "print(\"Feature sample:\")\n",
        "print(X.head())\n",
        "\n",
        "# Show label sample\n",
        "print(\"\\nTarget sample:\")\n",
        "print(y.head())\n"
      ]
    },
    {
      "cell_type": "markdown",
      "metadata": {
        "id": "QkJYqwnkIqYP"
      },
      "source": [
        "Step 5: Split the dataset into training and testing sets"
      ]
    },
    {
      "cell_type": "code",
      "execution_count": 5,
      "metadata": {
        "colab": {
          "base_uri": "https://localhost:8080/"
        },
        "id": "0o5q6U6UGtE8",
        "outputId": "9f9c1a39-bff6-407b-ca7b-308e557f63ce"
      },
      "outputs": [
        {
          "name": "stdout",
          "output_type": "stream",
          "text": [
            "Training set size: (1600, 7)\n",
            "Testing set size: (400, 7)\n"
          ]
        }
      ],
      "source": [
        "# Step 5: Split into training and testing sets\n",
        "from sklearn.model_selection import train_test_split\n",
        "\n",
        "# 80% for training, 20% for testing\n",
        "X_train, X_test, y_train, y_test = train_test_split(\n",
        "    X, y, test_size=0.2, random_state=42\n",
        ")\n",
        "\n",
        "print(\"Training set size:\", X_train.shape)\n",
        "print(\"Testing set size:\", X_test.shape)\n"
      ]
    },
    {
      "cell_type": "markdown",
      "metadata": {
        "id": "ITsVnPlvIvE4"
      },
      "source": [
        "Step 6: Scale the features (Standardization)"
      ]
    },
    {
      "cell_type": "code",
      "execution_count": 6,
      "metadata": {
        "colab": {
          "base_uri": "https://localhost:8080/"
        },
        "id": "LrObUkb-G1NJ",
        "outputId": "162e6315-46d0-4f2e-de6b-75c58d75574a"
      },
      "outputs": [
        {
          "name": "stdout",
          "output_type": "stream",
          "text": [
            "Sample of scaled training data:\n",
            "[[-0.90344125  0.36181146  1.26053946 -0.00450766  1.58702004 -0.42521972\n",
            "  -0.62111746]\n",
            " [ 1.28476907  0.50877727 -0.26854555  1.43794389  1.58702004 -0.42521972\n",
            "  -0.30064408]\n",
            " [-1.54703252 -1.4017783   0.24114945 -0.00450766 -0.60629492 -0.42521972\n",
            "   0.66077604]\n",
            " [ 1.67092384  1.53753797 -0.26854555 -1.44695921  1.58702004 -0.42521972\n",
            "   1.30172279]\n",
            " [-1.28959601  0.94967471  1.26053946 -0.00450766 -1.23295634 -0.42521972\n",
            "  -1.26206421]]\n"
          ]
        }
      ],
      "source": [
        "# Step 6: Scale features using StandardScaler\n",
        "from sklearn.preprocessing import StandardScaler\n",
        "\n",
        "# Initialize the scaler\n",
        "scaler = StandardScaler()\n",
        "\n",
        "# Fit on training data and transform both training and testing data\n",
        "X_train_scaled = scaler.fit_transform(X_train)\n",
        "X_test_scaled = scaler.transform(X_test)\n",
        "\n",
        "# Show a sample of the scaled features\n",
        "print(\"Sample of scaled training data:\")\n",
        "print(X_train_scaled[:5])\n"
      ]
    },
    {
      "cell_type": "markdown",
      "metadata": {
        "id": "y6vNVgt8IzPi"
      },
      "source": [
        "Step 7: Train a Machine Learning Model (Random Forest)"
      ]
    },
    {
      "cell_type": "code",
      "execution_count": 7,
      "metadata": {
        "colab": {
          "base_uri": "https://localhost:8080/"
        },
        "id": "2GNnSeRSG66r",
        "outputId": "95f1a1c3-0314-4ff4-d894-e42c28e5d44a"
      },
      "outputs": [
        {
          "name": "stdout",
          "output_type": "stream",
          "text": [
            "Accuracy on test set: 0.96\n",
            "\n",
            "Classification Report:\n",
            "              precision    recall  f1-score   support\n",
            "\n",
            "           0       0.95      0.98      0.96       226\n",
            "           1       0.97      0.93      0.95       174\n",
            "\n",
            "    accuracy                           0.96       400\n",
            "   macro avg       0.96      0.95      0.96       400\n",
            "weighted avg       0.96      0.96      0.96       400\n",
            "\n"
          ]
        }
      ],
      "source": [
        "from sklearn.ensemble import RandomForestClassifier\n",
        "from sklearn.metrics import accuracy_score, classification_report\n",
        "\n",
        "# Initialize the model\n",
        "model = RandomForestClassifier(random_state=42)\n",
        "\n",
        "# Train the model on scaled training data\n",
        "model.fit(X_train_scaled, y_train)\n",
        "\n",
        "# Predict on test data\n",
        "y_pred = model.predict(X_test_scaled)\n",
        "\n",
        "# Evaluate accuracy\n",
        "acc = accuracy_score(y_test, y_pred)\n",
        "print(f\"Accuracy on test set: {acc:.2f}\")\n",
        "\n",
        "# Detailed classification report\n",
        "print(\"\\nClassification Report:\")\n",
        "print(classification_report(y_test, y_pred))\n"
      ]
    },
    {
      "cell_type": "markdown",
      "metadata": {
        "id": "QjlgkqsSI2qT"
      },
      "source": [
        "Save my model and scaler"
      ]
    },
    {
      "cell_type": "code",
      "execution_count": 8,
      "metadata": {
        "colab": {
          "base_uri": "https://localhost:8080/"
        },
        "id": "B7Y_V50nH6yy",
        "outputId": "b1ee06fe-03a9-4147-e26a-f479d865d56e"
      },
      "outputs": [
        {
          "data": {
            "text/plain": [
              "['../ml_model/scaler.joblib']"
            ]
          },
          "execution_count": 8,
          "metadata": {},
          "output_type": "execute_result"
        }
      ],
      "source": [
        "import joblib\n",
        "\n",
        "# Save model\n",
        "joblib.dump(model, '../ml_model/random_forest_model.joblib')\n",
        "\n",
        "# Save scaler\n",
        "joblib.dump(scaler, '../ml_model/scaler.joblib')\n"
      ]
    },
    {
      "cell_type": "markdown",
      "metadata": {
        "id": "IIWdm50JI8uL"
      },
      "source": [
        " Load model and scaler for testing"
      ]
    },
    {
      "cell_type": "code",
      "execution_count": 9,
      "metadata": {
        "colab": {
          "base_uri": "https://localhost:8080/"
        },
        "id": "NulSxKBsH9ZD",
        "outputId": "f27adef8-c4bc-4650-d339-bf385b78a2d7"
      },
      "outputs": [
        {
          "name": "stdout",
          "output_type": "stream",
          "text": [
            "Prediction (0=Normal, 1=Abnormal): 0\n"
          ]
        },
        {
          "name": "stderr",
          "output_type": "stream",
          "text": [
            "/home/prasad-nirmal/anaconda3/envs/DeepLearningEnv/lib/python3.12/site-packages/sklearn/utils/validation.py:2739: UserWarning: X does not have valid feature names, but StandardScaler was fitted with feature names\n",
            "  warnings.warn(\n"
          ]
        }
      ],
      "source": [
        "# Load model and scaler\n",
        "loaded_model = joblib.load('../ml_model/random_forest_model.joblib')\n",
        "loaded_scaler = joblib.load('../ml_model/scaler.joblib')\n",
        "\n",
        "# Example new data (replace with your actual input)\n",
        "import numpy as np\n",
        "\n",
        "# Sample input: age=30, cycle_length=27, period_duration=5, flow_intensity=1, pms_symptoms_score=4, spotting_between=0, stress_level=3\n",
        "new_data = np.array([[30, 27, 5, 1, 4, 0, 3]])\n",
        "\n",
        "# Scale the input features\n",
        "new_data_scaled = loaded_scaler.transform(new_data)\n",
        "\n",
        "# Predict\n",
        "prediction = loaded_model.predict(new_data_scaled)\n",
        "\n",
        "print(\"Prediction (0=Normal, 1=Abnormal):\", prediction[0])\n"
      ]
    },
    {
      "cell_type": "markdown",
      "metadata": {
        "id": "Gdltl6fjI_Hs"
      },
      "source": [
        "Try different inputs"
      ]
    },
    {
      "cell_type": "code",
      "execution_count": 10,
      "metadata": {
        "colab": {
          "base_uri": "https://localhost:8080/"
        },
        "id": "A4C6t4HIIFce",
        "outputId": "35ac904b-9aad-4075-b885-47961039ed5e"
      },
      "outputs": [
        {
          "name": "stdout",
          "output_type": "stream",
          "text": [
            "Input: [30 27  5  1  4  0  3]\n",
            "Prediction: Normal\n",
            "\n",
            "Input: [22 40  6  2  8  1  9]\n",
            "Prediction: Abnormal\n",
            "\n",
            "Input: [28 19  4  0  2  0  2]\n",
            "Prediction: Abnormal\n",
            "\n",
            "Input: [35 30  9  1  6  0  4]\n",
            "Prediction: Abnormal\n",
            "\n"
          ]
        },
        {
          "name": "stderr",
          "output_type": "stream",
          "text": [
            "/home/prasad-nirmal/anaconda3/envs/DeepLearningEnv/lib/python3.12/site-packages/sklearn/utils/validation.py:2739: UserWarning: X does not have valid feature names, but StandardScaler was fitted with feature names\n",
            "  warnings.warn(\n",
            "/home/prasad-nirmal/anaconda3/envs/DeepLearningEnv/lib/python3.12/site-packages/sklearn/utils/validation.py:2739: UserWarning: X does not have valid feature names, but StandardScaler was fitted with feature names\n",
            "  warnings.warn(\n",
            "/home/prasad-nirmal/anaconda3/envs/DeepLearningEnv/lib/python3.12/site-packages/sklearn/utils/validation.py:2739: UserWarning: X does not have valid feature names, but StandardScaler was fitted with feature names\n",
            "  warnings.warn(\n",
            "/home/prasad-nirmal/anaconda3/envs/DeepLearningEnv/lib/python3.12/site-packages/sklearn/utils/validation.py:2739: UserWarning: X does not have valid feature names, but StandardScaler was fitted with feature names\n",
            "  warnings.warn(\n"
          ]
        }
      ],
      "source": [
        "import numpy as np\n",
        "\n",
        "# Function to test input and print prediction\n",
        "def test_cycle_input(age, cycle_length, period_duration, flow_intensity, pms_symptoms_score, spotting_between, stress_level):\n",
        "    input_data = np.array([[age, cycle_length, period_duration, flow_intensity, pms_symptoms_score, spotting_between, stress_level]])\n",
        "    input_scaled = loaded_scaler.transform(input_data)\n",
        "    pred = loaded_model.predict(input_scaled)[0]\n",
        "    label = \"Abnormal\" if pred == 1 else \"Normal\"\n",
        "    print(f\"Input: {input_data.flatten()}\")\n",
        "    print(f\"Prediction: {label}\\n\")\n",
        "\n",
        "# Examples to try\n",
        "test_cycle_input(30, 27, 5, 1, 4, 0, 3)  # Expected: Normal\n",
        "test_cycle_input(22, 40, 6, 2, 8, 1, 9)  # Expected: Abnormal (long cycle, heavy flow, spotting, high stress)\n",
        "test_cycle_input(28, 19, 4, 0, 2, 0, 2)  # Expected: Abnormal (short cycle)\n",
        "test_cycle_input(35, 30, 9, 1, 6, 0, 4)  # Expected: Abnormal (long period duration)\n"
      ]
    },
    {
      "cell_type": "markdown",
      "metadata": {
        "id": "k6QLK0z_JbFt"
      },
      "source": [
        "Interactive input + prediction code"
      ]
    },
    {
      "cell_type": "code",
      "execution_count": null,
      "metadata": {
        "colab": {
          "base_uri": "https://localhost:8080/"
        },
        "id": "L3NrJBRoJJF4",
        "outputId": "374fcf20-7565-495b-c5c2-99db40958c9b"
      },
      "outputs": [],
      "source": [
        "# Make sure you have loaded your model and scaler as before\n",
        "\n",
        "def get_user_input_and_predict():\n",
        "    print(\"Enter menstrual cycle data:\")\n",
        "    age = int(input(\"Age (years): \"))\n",
        "    cycle_length = int(input(\"Cycle length (days): \"))\n",
        "    period_duration = int(input(\"Period duration (days): \"))\n",
        "    flow_intensity = int(input(\"Flow intensity (0=Light,1=Medium,2=Heavy): \"))\n",
        "    pms_symptoms_score = int(input(\"PMS symptoms score (0-10): \"))\n",
        "    spotting_between = int(input(\"Spotting between periods? (0=No, 1=Yes): \"))\n",
        "    stress_level = int(input(\"Stress level (0-10): \"))\n",
        "\n",
        "    # Create numpy array and scale\n",
        "    input_data = np.array([[age, cycle_length, period_duration, flow_intensity, pms_symptoms_score, spotting_between, stress_level]])\n",
        "    input_scaled = loaded_scaler.transform(input_data)\n",
        "\n",
        "    # Predict\n",
        "    pred = loaded_model.predict(input_scaled)[0]\n",
        "    label = \"Abnormal\" if pred == 1 else \"Normal\"\n",
        "\n",
        "    print(f\"\\nPrediction: Your menstrual cycle is likely: {label}\")\n",
        "\n",
        "# Call the function\n",
        "get_user_input_and_predict()\n"
      ]
    },
    {
      "cell_type": "code",
      "execution_count": null,
      "metadata": {
        "colab": {
          "base_uri": "https://localhost:8080/",
          "height": 17
        },
        "id": "3coASARpKs64",
        "outputId": "b9cf3aa3-ad36-4e5b-ebe2-00d917b74a41"
      },
      "outputs": [],
      "source": [
        "from google.colab import files\n",
        "\n",
        "# Download the model file\n",
        "files.download('../ml_model/random_forest_model.joblib')\n",
        "\n",
        "# Download the scaler file\n",
        "files.download('../ml_model/scaler.joblib')\n"
      ]
    },
    {
      "cell_type": "code",
      "execution_count": null,
      "metadata": {},
      "outputs": [],
      "source": []
    }
  ],
  "metadata": {
    "accelerator": "GPU",
    "colab": {
      "gpuType": "T4",
      "provenance": []
    },
    "kernelspec": {
      "display_name": "DeepLearningEnv",
      "language": "python",
      "name": "python3"
    },
    "language_info": {
      "codemirror_mode": {
        "name": "ipython",
        "version": 3
      },
      "file_extension": ".py",
      "mimetype": "text/x-python",
      "name": "python",
      "nbconvert_exporter": "python",
      "pygments_lexer": "ipython3",
      "version": "3.12.9"
    }
  },
  "nbformat": 4,
  "nbformat_minor": 0
}
